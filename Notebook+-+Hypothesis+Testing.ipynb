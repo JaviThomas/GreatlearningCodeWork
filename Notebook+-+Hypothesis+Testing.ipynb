{
 "cells": [
  {
   "cell_type": "markdown",
   "metadata": {
    "id": "na3XXQqwxk4n"
   },
   "source": [
    "# **Concepts Covered:**\n",
    "\n",
    "- <a href = #link4>Hypothesis Test for Population Mean $\\mu$</a>\n",
    "- <a href = #link5>One-tailed and Two-tailed Tests</a>"
   ]
  },
  {
   "cell_type": "markdown",
   "metadata": {},
   "source": [
    "## Command to install the latest version Scipy in the system"
   ]
  },
  {
   "cell_type": "code",
   "execution_count": 1,
   "metadata": {},
   "outputs": [
    {
     "name": "stdout",
     "output_type": "stream",
     "text": [
      "Collecting scipy==1.6.1\n",
      "  Downloading scipy-1.6.1.tar.gz (27.3 MB)\n",
      "     ---------------------------------------- 0.0/27.3 MB ? eta -:--:--\n",
      "      --------------------------------------- 0.4/27.3 MB 11.6 MB/s eta 0:00:03\n",
      "     - -------------------------------------- 1.0/27.3 MB 16.7 MB/s eta 0:00:02\n",
      "     - -------------------------------------- 1.2/27.3 MB 9.8 MB/s eta 0:00:03\n",
      "     --- ------------------------------------ 2.6/27.3 MB 15.2 MB/s eta 0:00:02\n",
      "     ---- ----------------------------------- 3.1/27.3 MB 15.4 MB/s eta 0:00:02\n",
      "     ------ --------------------------------- 4.2/27.3 MB 15.8 MB/s eta 0:00:02\n",
      "     ------ --------------------------------- 4.6/27.3 MB 14.6 MB/s eta 0:00:02\n",
      "     -------- ------------------------------- 5.9/27.3 MB 16.3 MB/s eta 0:00:02\n",
      "     ---------- ----------------------------- 6.8/27.3 MB 16.8 MB/s eta 0:00:02\n",
      "     ---------- ----------------------------- 7.3/27.3 MB 17.3 MB/s eta 0:00:02\n",
      "     ------------ --------------------------- 8.3/27.3 MB 16.6 MB/s eta 0:00:02\n",
      "     ------------ --------------------------- 8.4/27.3 MB 16.8 MB/s eta 0:00:02\n",
      "     ------------ --------------------------- 8.5/27.3 MB 14.3 MB/s eta 0:00:02\n",
      "     ------------- -------------------------- 9.4/27.3 MB 15.1 MB/s eta 0:00:02\n",
      "     -------------- ------------------------ 10.0/27.3 MB 14.6 MB/s eta 0:00:02\n",
      "     -------------- ------------------------ 10.5/27.3 MB 15.2 MB/s eta 0:00:02\n",
      "     --------------- ----------------------- 11.0/27.3 MB 14.2 MB/s eta 0:00:02\n",
      "     ---------------- ---------------------- 11.5/27.3 MB 15.2 MB/s eta 0:00:02\n",
      "     ----------------- --------------------- 12.6/27.3 MB 14.6 MB/s eta 0:00:02\n",
      "     ------------------- ------------------- 13.8/27.3 MB 14.9 MB/s eta 0:00:01\n",
      "     -------------------- ------------------ 14.7/27.3 MB 16.0 MB/s eta 0:00:01\n",
      "     -------------------- ------------------ 14.7/27.3 MB 16.0 MB/s eta 0:00:01\n",
      "     -------------------- ------------------ 14.7/27.3 MB 16.0 MB/s eta 0:00:01\n",
      "     ---------------------- ---------------- 15.7/27.3 MB 13.4 MB/s eta 0:00:01\n",
      "     ------------------------ -------------- 17.0/27.3 MB 13.6 MB/s eta 0:00:01\n",
      "     -------------------------- ------------ 18.3/27.3 MB 14.6 MB/s eta 0:00:01\n",
      "     -------------------------- ------------ 18.9/27.3 MB 16.4 MB/s eta 0:00:01\n",
      "     --------------------------- ----------- 19.2/27.3 MB 15.2 MB/s eta 0:00:01\n",
      "     ---------------------------- ---------- 19.9/27.3 MB 16.0 MB/s eta 0:00:01\n",
      "     ----------------------------- --------- 20.8/27.3 MB 16.4 MB/s eta 0:00:01\n",
      "     ------------------------------ -------- 21.1/27.3 MB 16.0 MB/s eta 0:00:01\n",
      "     ------------------------------- ------- 22.0/27.3 MB 16.8 MB/s eta 0:00:01\n",
      "     ------------------------------- ------- 22.0/27.3 MB 16.8 MB/s eta 0:00:01\n",
      "     -------------------------------- ------ 22.6/27.3 MB 14.6 MB/s eta 0:00:01\n",
      "     -------------------------------- ------ 23.1/27.3 MB 14.2 MB/s eta 0:00:01\n",
      "     --------------------------------- ----- 23.5/27.3 MB 13.4 MB/s eta 0:00:01\n",
      "     ----------------------------------- --- 24.8/27.3 MB 13.4 MB/s eta 0:00:01\n",
      "     ----------------------------------- --- 25.2/27.3 MB 16.0 MB/s eta 0:00:01\n",
      "     ------------------------------------- - 26.2/27.3 MB 14.9 MB/s eta 0:00:01\n",
      "     ------------------------------------- - 26.5/27.3 MB 14.2 MB/s eta 0:00:01\n",
      "     --------------------------------------  27.3/27.3 MB 14.2 MB/s eta 0:00:01\n",
      "     --------------------------------------  27.3/27.3 MB 14.2 MB/s eta 0:00:01\n",
      "     --------------------------------------- 27.3/27.3 MB 12.8 MB/s eta 0:00:00\n",
      "  Installing build dependencies: started\n",
      "  Installing build dependencies: finished with status 'done'\n",
      "  Getting requirements to build wheel: started\n",
      "  Getting requirements to build wheel: finished with status 'done'\n",
      "  Preparing metadata (pyproject.toml): started\n",
      "  Preparing metadata (pyproject.toml): finished with status 'error'\n"
     ]
    },
    {
     "name": "stderr",
     "output_type": "stream",
     "text": [
      "  error: subprocess-exited-with-error\n",
      "  \n",
      "  × Preparing metadata (pyproject.toml) did not run successfully.\n",
      "  │ exit code: 1\n",
      "  ╰─> [141 lines of output]\n",
      "      setup.py:461: UserWarning: Unrecognized setuptools command ('dist_info --egg-base C:\\Users\\dog27\\AppData\\Local\\Temp\\pip-modern-metadata-928rwh_8'), proceeding with generating Cython sources and expanding templates\n",
      "        warnings.warn(\"Unrecognized setuptools command ('{}'), proceeding with \"\n",
      "      setup.py:563: DeprecationWarning:\n",
      "      \n",
      "        `numpy.distutils` is deprecated since NumPy 1.23.0, as a result\n",
      "        of the deprecation of `distutils` itself. It will be removed for\n",
      "        Python >= 3.12. For older Python versions it will remain present.\n",
      "        It is recommended to use `setuptools < 60.0` for those Python versions.\n",
      "        For more details, see:\n",
      "          https://numpy.org/devdocs/reference/distutils_status_migration.html\n",
      "      \n",
      "      \n",
      "        from numpy.distutils.core import setup\n",
      "      Running from SciPy source directory.\n",
      "      INFO: lapack_opt_info:\n",
      "      INFO: lapack_armpl_info:\n",
      "      INFO: No module named 'numpy.distutils._msvccompiler' in numpy.distutils; trying from distutils\n",
      "      INFO: customize MSVCCompiler\n",
      "      INFO:   libraries armpl_lp64_mp not found in ['C:\\\\Program Files\\\\WindowsApps\\\\PythonSoftwareFoundation.Python.3.10_3.10.2800.0_x64__qbz5n2kfra8p0\\\\lib', 'C:\\\\', 'C:\\\\Program Files\\\\WindowsApps\\\\PythonSoftwareFoundation.Python.3.10_3.10.2800.0_x64__qbz5n2kfra8p0\\\\libs']\n",
      "      INFO:   NOT AVAILABLE\n",
      "      INFO:\n",
      "      INFO: lapack_mkl_info:\n",
      "      INFO:   libraries mkl_rt not found in ['C:\\\\Program Files\\\\WindowsApps\\\\PythonSoftwareFoundation.Python.3.10_3.10.2800.0_x64__qbz5n2kfra8p0\\\\lib', 'C:\\\\', 'C:\\\\Program Files\\\\WindowsApps\\\\PythonSoftwareFoundation.Python.3.10_3.10.2800.0_x64__qbz5n2kfra8p0\\\\libs']\n",
      "      INFO:   NOT AVAILABLE\n",
      "      INFO:\n",
      "      INFO: openblas_lapack_info:\n",
      "      INFO:   libraries openblas not found in ['C:\\\\Program Files\\\\WindowsApps\\\\PythonSoftwareFoundation.Python.3.10_3.10.2800.0_x64__qbz5n2kfra8p0\\\\lib', 'C:\\\\', 'C:\\\\Program Files\\\\WindowsApps\\\\PythonSoftwareFoundation.Python.3.10_3.10.2800.0_x64__qbz5n2kfra8p0\\\\libs']\n",
      "      INFO: get_default_fcompiler: matching types: '['gnu', 'intelv', 'absoft', 'compaqv', 'intelev', 'gnu95', 'g95', 'intelvem', 'intelem', 'flang']'\n",
      "      INFO: customize GnuFCompiler\n",
      "      WARN: Could not locate executable g77\n",
      "      WARN: Could not locate executable f77\n",
      "      INFO: customize IntelVisualFCompiler\n",
      "      WARN: Could not locate executable ifort\n",
      "      WARN: Could not locate executable ifl\n",
      "      INFO: customize AbsoftFCompiler\n",
      "      WARN: Could not locate executable f90\n",
      "      INFO: customize CompaqVisualFCompiler\n",
      "      WARN: Could not locate executable DF\n",
      "      INFO: customize IntelItaniumVisualFCompiler\n",
      "      WARN: Could not locate executable efl\n",
      "      INFO: customize Gnu95FCompiler\n",
      "      WARN: Could not locate executable gfortran\n",
      "      WARN: Could not locate executable f95\n",
      "      INFO: customize G95FCompiler\n",
      "      WARN: Could not locate executable g95\n",
      "      INFO: customize IntelEM64VisualFCompiler\n",
      "      INFO: customize IntelEM64TFCompiler\n",
      "      WARN: Could not locate executable efort\n",
      "      WARN: Could not locate executable efc\n",
      "      INFO: customize PGroupFlangCompiler\n",
      "      WARN: Could not locate executable flang\n",
      "      WARN: don't know how to compile Fortran code on platform 'nt'\n",
      "      INFO:   NOT AVAILABLE\n",
      "      INFO:\n",
      "      INFO: openblas_clapack_info:\n",
      "      INFO:   libraries openblas,lapack not found in ['C:\\\\Program Files\\\\WindowsApps\\\\PythonSoftwareFoundation.Python.3.10_3.10.2800.0_x64__qbz5n2kfra8p0\\\\lib', 'C:\\\\', 'C:\\\\Program Files\\\\WindowsApps\\\\PythonSoftwareFoundation.Python.3.10_3.10.2800.0_x64__qbz5n2kfra8p0\\\\libs']\n",
      "      INFO:   NOT AVAILABLE\n",
      "      INFO:\n",
      "      INFO: flame_info:\n",
      "      INFO:   libraries flame not found in ['C:\\\\Program Files\\\\WindowsApps\\\\PythonSoftwareFoundation.Python.3.10_3.10.2800.0_x64__qbz5n2kfra8p0\\\\lib', 'C:\\\\', 'C:\\\\Program Files\\\\WindowsApps\\\\PythonSoftwareFoundation.Python.3.10_3.10.2800.0_x64__qbz5n2kfra8p0\\\\libs']\n",
      "      INFO:   NOT AVAILABLE\n",
      "      INFO:\n",
      "      INFO: accelerate_info:\n",
      "      INFO:   NOT AVAILABLE\n",
      "      INFO:\n",
      "      INFO: atlas_3_10_threads_info:\n",
      "      INFO: Setting PTATLAS=ATLAS\n",
      "      INFO:   libraries tatlas,tatlas not found in C:\\Program Files\\WindowsApps\\PythonSoftwareFoundation.Python.3.10_3.10.2800.0_x64__qbz5n2kfra8p0\\lib\n",
      "      INFO:   libraries tatlas,tatlas not found in C:\\\n",
      "      INFO:   libraries tatlas,tatlas not found in C:\\Program Files\\WindowsApps\\PythonSoftwareFoundation.Python.3.10_3.10.2800.0_x64__qbz5n2kfra8p0\\libs\n",
      "      INFO: <class 'numpy.distutils.system_info.atlas_3_10_threads_info'>\n",
      "      INFO:   NOT AVAILABLE\n",
      "      INFO:\n",
      "      INFO: atlas_3_10_info:\n",
      "      INFO:   libraries satlas,satlas not found in C:\\Program Files\\WindowsApps\\PythonSoftwareFoundation.Python.3.10_3.10.2800.0_x64__qbz5n2kfra8p0\\lib\n",
      "      INFO:   libraries satlas,satlas not found in C:\\\n",
      "      INFO:   libraries satlas,satlas not found in C:\\Program Files\\WindowsApps\\PythonSoftwareFoundation.Python.3.10_3.10.2800.0_x64__qbz5n2kfra8p0\\libs\n",
      "      INFO: <class 'numpy.distutils.system_info.atlas_3_10_info'>\n",
      "      INFO:   NOT AVAILABLE\n",
      "      INFO:\n",
      "      INFO: atlas_threads_info:\n",
      "      INFO: Setting PTATLAS=ATLAS\n",
      "      INFO:   libraries ptf77blas,ptcblas,atlas not found in C:\\Program Files\\WindowsApps\\PythonSoftwareFoundation.Python.3.10_3.10.2800.0_x64__qbz5n2kfra8p0\\lib\n",
      "      INFO:   libraries ptf77blas,ptcblas,atlas not found in C:\\\n",
      "      INFO:   libraries ptf77blas,ptcblas,atlas not found in C:\\Program Files\\WindowsApps\\PythonSoftwareFoundation.Python.3.10_3.10.2800.0_x64__qbz5n2kfra8p0\\libs\n",
      "      INFO: <class 'numpy.distutils.system_info.atlas_threads_info'>\n",
      "      INFO:   NOT AVAILABLE\n",
      "      INFO:\n",
      "      INFO: atlas_info:\n",
      "      INFO:   libraries f77blas,cblas,atlas not found in C:\\Program Files\\WindowsApps\\PythonSoftwareFoundation.Python.3.10_3.10.2800.0_x64__qbz5n2kfra8p0\\lib\n",
      "      INFO:   libraries f77blas,cblas,atlas not found in C:\\\n",
      "      INFO:   libraries f77blas,cblas,atlas not found in C:\\Program Files\\WindowsApps\\PythonSoftwareFoundation.Python.3.10_3.10.2800.0_x64__qbz5n2kfra8p0\\libs\n",
      "      INFO: <class 'numpy.distutils.system_info.atlas_info'>\n",
      "      INFO:   NOT AVAILABLE\n",
      "      INFO:\n",
      "      INFO: lapack_info:\n",
      "      INFO:   libraries lapack not found in ['C:\\\\Program Files\\\\WindowsApps\\\\PythonSoftwareFoundation.Python.3.10_3.10.2800.0_x64__qbz5n2kfra8p0\\\\lib', 'C:\\\\', 'C:\\\\Program Files\\\\WindowsApps\\\\PythonSoftwareFoundation.Python.3.10_3.10.2800.0_x64__qbz5n2kfra8p0\\\\libs']\n",
      "      INFO:   NOT AVAILABLE\n",
      "      INFO:\n",
      "      C:\\Users\\dog27\\AppData\\Local\\Temp\\pip-build-env-avq394o6\\overlay\\Lib\\site-packages\\numpy\\distutils\\system_info.py:1902: UserWarning:\n",
      "          Lapack (http://www.netlib.org/lapack/) libraries not found.\n",
      "          Directories to search for the libraries can be specified in the\n",
      "          numpy/distutils/site.cfg file (section [lapack]) or by setting\n",
      "          the LAPACK environment variable.\n",
      "        return getattr(self, '_calc_info_{}'.format(name))()\n",
      "      INFO: lapack_src_info:\n",
      "      INFO:   NOT AVAILABLE\n",
      "      INFO:\n",
      "      C:\\Users\\dog27\\AppData\\Local\\Temp\\pip-build-env-avq394o6\\overlay\\Lib\\site-packages\\numpy\\distutils\\system_info.py:1902: UserWarning:\n",
      "          Lapack (http://www.netlib.org/lapack/) sources not found.\n",
      "          Directories to search for the sources can be specified in the\n",
      "          numpy/distutils/site.cfg file (section [lapack_src]) or by setting\n",
      "          the LAPACK_SRC environment variable.\n",
      "        return getattr(self, '_calc_info_{}'.format(name))()\n",
      "      INFO:   NOT AVAILABLE\n",
      "      INFO:\n",
      "      Traceback (most recent call last):\n",
      "        File \"C:\\Users\\dog27\\AppData\\Local\\Packages\\PythonSoftwareFoundation.Python.3.10_qbz5n2kfra8p0\\LocalCache\\local-packages\\Python310\\site-packages\\pip\\_vendor\\pyproject_hooks\\_in_process\\_in_process.py\", line 353, in <module>\n",
      "          main()\n",
      "        File \"C:\\Users\\dog27\\AppData\\Local\\Packages\\PythonSoftwareFoundation.Python.3.10_qbz5n2kfra8p0\\LocalCache\\local-packages\\Python310\\site-packages\\pip\\_vendor\\pyproject_hooks\\_in_process\\_in_process.py\", line 335, in main\n",
      "          json_out['return_val'] = hook(**hook_input['kwargs'])\n",
      "        File \"C:\\Users\\dog27\\AppData\\Local\\Packages\\PythonSoftwareFoundation.Python.3.10_qbz5n2kfra8p0\\LocalCache\\local-packages\\Python310\\site-packages\\pip\\_vendor\\pyproject_hooks\\_in_process\\_in_process.py\", line 149, in prepare_metadata_for_build_wheel\n",
      "          return hook(metadata_directory, config_settings)\n",
      "        File \"C:\\Users\\dog27\\AppData\\Local\\Temp\\pip-build-env-avq394o6\\overlay\\Lib\\site-packages\\setuptools\\build_meta.py\", line 161, in prepare_metadata_for_build_wheel\n",
      "          self.run_setup()\n",
      "        File \"C:\\Users\\dog27\\AppData\\Local\\Temp\\pip-build-env-avq394o6\\overlay\\Lib\\site-packages\\setuptools\\build_meta.py\", line 253, in run_setup\n",
      "          super(_BuildMetaLegacyBackend,\n",
      "        File \"C:\\Users\\dog27\\AppData\\Local\\Temp\\pip-build-env-avq394o6\\overlay\\Lib\\site-packages\\setuptools\\build_meta.py\", line 145, in run_setup\n",
      "          exec(compile(code, __file__, 'exec'), locals())\n",
      "        File \"setup.py\", line 588, in <module>\n",
      "          setup_package()\n",
      "        File \"setup.py\", line 584, in setup_package\n",
      "          setup(**metadata)\n",
      "        File \"C:\\Users\\dog27\\AppData\\Local\\Temp\\pip-build-env-avq394o6\\overlay\\Lib\\site-packages\\numpy\\distutils\\core.py\", line 135, in setup\n",
      "          config = configuration()\n",
      "        File \"setup.py\", line 499, in configuration\n",
      "          raise NotFoundError(msg)\n",
      "      numpy.distutils.system_info.NotFoundError: No BLAS/LAPACK libraries found.\n",
      "      To build Scipy from sources, BLAS & LAPACK libraries need to be installed.\n",
      "      See site.cfg.example in the Scipy source directory and\n",
      "      https://docs.scipy.org/doc/scipy/reference/building/index.html for details.\n",
      "      [end of output]\n",
      "  \n",
      "  note: This error originates from a subprocess, and is likely not a problem with pip.\n",
      "error: metadata-generation-failed\n",
      "\n",
      "× Encountered error while generating package metadata.\n",
      "╰─> See above for output.\n",
      "\n",
      "note: This is an issue with the package mentioned above, not pip.\n",
      "hint: See above for details.\n"
     ]
    }
   ],
   "source": [
    "!pip install scipy==1.6.1"
   ]
  },
  {
   "cell_type": "code",
   "execution_count": 2,
   "metadata": {},
   "outputs": [
    {
     "data": {
      "text/plain": [
       "'1.10.1'"
      ]
     },
     "execution_count": 2,
     "metadata": {},
     "output_type": "execute_result"
    }
   ],
   "source": [
    "import scipy\n",
    "scipy.__version__"
   ]
  },
  {
   "cell_type": "markdown",
   "metadata": {},
   "source": [
    "## Import the required packages"
   ]
  },
  {
   "cell_type": "code",
   "execution_count": 3,
   "metadata": {
    "id": "n1269wHJF96t"
   },
   "outputs": [],
   "source": [
    "# import the important packages\n",
    "import pandas as pd  # library used for data manipulation and analysis\n",
    "import numpy as np  # library used for working with arrays\n",
    "import matplotlib.pyplot as plt  # library for plots and visualizations\n",
    "import seaborn as sns  # library for visualizations\n",
    "\n",
    "%matplotlib inline\n",
    "\n",
    "import scipy.stats as stats  # this library contains a large number of probability distributions as well as a growing library of statistical functions"
   ]
  },
  {
   "cell_type": "markdown",
   "metadata": {
    "id": "HHhcxblrCPQs"
   },
   "source": [
    "## **Hypothesis Test for Population Mean**"
   ]
  },
  {
   "cell_type": "markdown",
   "metadata": {
    "id": "imkkvBHLCr1p"
   },
   "source": [
    "### One Sample Z-test (when population standard deviation is known)\n",
    "\n",
    "It is rarely the case when you know the population standard deviation and not the mean but let's assume that is the case."
   ]
  },
  {
   "cell_type": "markdown",
   "metadata": {
    "id": "JFYmMSXAD5r8"
   },
   "source": [
    "It is known from experience that for a certain E-commerce company the mean delivery time of the products is 5 days with a standard deviation of 1.3 days.\n",
    "\n",
    "The new customer service manager of the company is afraid that the company is slipping and collects a random sample of 45 orders. The mean delivery time of these samples comes out to be 5.25 days. \n",
    "\n",
    "Is there enough statistical evidence for the manager’s apprehension that the mean delivery time of products is greater than 5 days?\n",
    "\n",
    "Use level of significance $\\alpha$ = 0.05."
   ]
  },
  {
   "cell_type": "markdown",
   "metadata": {
    "id": "f5_ECLi6YZA2"
   },
   "source": [
    "### Let's write the null hypothesis and alternate hypothesis"
   ]
  },
  {
   "cell_type": "markdown",
   "metadata": {
    "id": "UjzLRZUjSLig"
   },
   "source": [
    "Let $\\mu$ be the mean delivery time of the products.\n",
    "\n",
    "The manager will test the null hypothesis\n",
    "\n",
    ">$H_0: \\mu = 5$\n",
    "\n",
    "against the alternate hypothesis\n",
    "\n",
    "> $H_a: \\mu > 5$"
   ]
  },
  {
   "cell_type": "markdown",
   "metadata": {
    "id": "Za3CtsidYe2a"
   },
   "source": [
    "### Are the assumptions of the Z-test satisfied?"
   ]
  },
  {
   "cell_type": "markdown",
   "metadata": {
    "id": "uZEqFhp8V99Y"
   },
   "source": [
    "* Samples are drawn from a normal distribution - Since the sample size is 45(which is > 30), Central Limit Theorem states that the distribution of sample means will be normal. If the sample size was less than 30, we would have been able to apply the z test if we knew that the population distribution was normal.  \n",
    "* Observations are from a simple random sample - we are informed that the manager collected a simple random sample.\n",
    "* Standard deviation is known - Yes.\n",
    "\n",
    "\n",
    "Voila! We can use Z-test for this problem."
   ]
  },
  {
   "cell_type": "markdown",
   "metadata": {
    "id": "vI7uRPYSZDAv"
   },
   "source": [
    "### The next step is to find the Z test statistic"
   ]
  },
  {
   "cell_type": "code",
   "execution_count": 11,
   "metadata": {
    "colab": {
     "base_uri": "https://localhost:8080/"
    },
    "id": "g03yfFvoV08J",
    "outputId": "e74f78eb-40ec-42fc-9cd8-4b4397036b84"
   },
   "outputs": [
    {
     "data": {
      "text/plain": [
       "0.0"
      ]
     },
     "execution_count": 11,
     "metadata": {},
     "output_type": "execute_result"
    }
   ],
   "source": [
    "# set the values of population mean and population standard deviation to 5 and 1.3 respectively\n",
    "mu, sigma = 502, 115\n",
    "\n",
    "# set the value of sample mean to 5.25\n",
    "x_bar = 502\n",
    "\n",
    "\n",
    "# calculate the test statistic\n",
    "test_stat = (x_bar - mu) / (sigma/np.sqrt(45))\n",
    "test_stat"
   ]
  },
  {
   "cell_type": "code",
   "execution_count": 32,
   "metadata": {},
   "outputs": [
    {
     "data": {
      "text/html": [
       "<div>\n",
       "<style scoped>\n",
       "    .dataframe tbody tr th:only-of-type {\n",
       "        vertical-align: middle;\n",
       "    }\n",
       "\n",
       "    .dataframe tbody tr th {\n",
       "        vertical-align: top;\n",
       "    }\n",
       "\n",
       "    .dataframe thead th {\n",
       "        text-align: right;\n",
       "    }\n",
       "</style>\n",
       "<table border=\"1\" class=\"dataframe\">\n",
       "  <thead>\n",
       "    <tr style=\"text-align: right;\">\n",
       "      <th></th>\n",
       "      <th>0</th>\n",
       "    </tr>\n",
       "  </thead>\n",
       "  <tbody>\n",
       "    <tr>\n",
       "      <th>count</th>\n",
       "      <td>6.000000</td>\n",
       "    </tr>\n",
       "    <tr>\n",
       "      <th>mean</th>\n",
       "      <td>54.000000</td>\n",
       "    </tr>\n",
       "    <tr>\n",
       "      <th>std</th>\n",
       "      <td>4.560702</td>\n",
       "    </tr>\n",
       "    <tr>\n",
       "      <th>min</th>\n",
       "      <td>48.000000</td>\n",
       "    </tr>\n",
       "    <tr>\n",
       "      <th>25%</th>\n",
       "      <td>51.000000</td>\n",
       "    </tr>\n",
       "    <tr>\n",
       "      <th>50%</th>\n",
       "      <td>54.000000</td>\n",
       "    </tr>\n",
       "    <tr>\n",
       "      <th>75%</th>\n",
       "      <td>57.000000</td>\n",
       "    </tr>\n",
       "    <tr>\n",
       "      <th>max</th>\n",
       "      <td>60.000000</td>\n",
       "    </tr>\n",
       "  </tbody>\n",
       "</table>\n",
       "</div>"
      ],
      "text/plain": [
       "               0\n",
       "count   6.000000\n",
       "mean   54.000000\n",
       "std     4.560702\n",
       "min    48.000000\n",
       "25%    51.000000\n",
       "50%    54.000000\n",
       "75%    57.000000\n",
       "max    60.000000"
      ]
     },
     "execution_count": 32,
     "metadata": {},
     "output_type": "execute_result"
    }
   ],
   "source": [
    "list = [48, 50, 54, 54, 58, 60]\n",
    "\n",
    "a = pd.DataFrame(list)\n",
    "\n",
    "a.describe()"
   ]
  },
  {
   "cell_type": "markdown",
   "metadata": {
    "id": "ddz-nxAuaQl1"
   },
   "source": [
    "#### The Z test statistic follows a standard normal distribution.\n",
    "\n",
    "Let's plot the distribution of the Z test statistic and see where the computed test statistic lies in the plot."
   ]
  },
  {
   "cell_type": "code",
   "execution_count": 14,
   "metadata": {
    "colab": {
     "base_uri": "https://localhost:8080/",
     "height": 265
    },
    "id": "mKW-GHiZa6DE",
    "outputId": "3144c586-6dfe-4f89-f36e-7d0b76a91dfe"
   },
   "outputs": [
    {
     "data": {
      "image/png": "[encoded data removed]",
      "text/plain": [
       "<Figure size 640x480 with 1 Axes>"
      ]
     },
     "metadata": {},
     "output_type": "display_data"
    }
   ],
   "source": [
    "# import the required function\n",
    "from scipy.stats import norm\n",
    "\n",
    "# plotting the distribution of Z test statistic along with the test statistic\n",
    "# we are plotting the distributions here to better visualize the calculations\n",
    "x = np.linspace(-4, 4, 100)\n",
    "plt.plot(x, norm.pdf(x, 0, 1))\n",
    "plt.axvline(x = test_stat, c = 'r')\n",
    "plt.show()"
   ]
  },
  {
   "cell_type": "markdown",
   "metadata": {
    "id": "2RoCBWfad8yi"
   },
   "source": [
    "What is the probability of getting the calculated value of test statistic or bigger in the above distribution?"
   ]
  },
  {
   "cell_type": "code",
   "execution_count": 6,
   "metadata": {
    "colab": {
     "base_uri": "https://localhost:8080/"
    },
    "id": "P-sbsv2ued1d",
    "outputId": "341677f8-55b8-481f-a9ae-f4211e6fc012"
   },
   "outputs": [
    {
     "data": {
      "text/plain": [
       "0.09851852092578695"
      ]
     },
     "execution_count": 6,
     "metadata": {},
     "output_type": "execute_result"
    }
   ],
   "source": [
    "1 - norm.cdf(test_stat)"
   ]
  },
  {
   "cell_type": "markdown",
   "metadata": {
    "id": "0b-uXxQZNS4e"
   },
   "source": [
    "**Though the probability is very small, is it significant enough to reject the null hypothesis in favor of the alternate hypothesis?**"
   ]
  },
  {
   "cell_type": "markdown",
   "metadata": {
    "id": "sVtMAHgbg1Ut"
   },
   "source": [
    "### Introduction of Rejection Acceptance Region/ p-value"
   ]
  },
  {
   "cell_type": "markdown",
   "metadata": {
    "id": "xqqUout3gNK8"
   },
   "source": [
    "Though the probability is small, we can not conclude whether the evidence is significant enough to reject the null hypothesis in favor of the alternate hypothesis or not. To determine it, we use either one of the following approaches:\n",
    "\n",
    "1- Rejection region approach\n",
    "\n",
    "2- p-value approach"
   ]
  },
  {
   "cell_type": "markdown",
   "metadata": {
    "id": "4dihfsGeO-RR"
   },
   "source": [
    "#### Rejection Region Approach\n",
    "\n",
    "For this approach, we need to follow the below steps.\n",
    "\n",
    "\n",
    "1.   We choose a value of the level of significance ($\\alpha$).\n",
    "\n",
    "     ($\\alpha$ is the probability of rejecting the null hypothesis if it is true.)\n",
    "\n",
    "2.   Then, we find the rejection region in the graph.\n",
    "\n",
    "3.   We reject the null hypothesis if the test statistic falls in the rejection region. Else, we don't reject the null hypothesis.\n",
    "\n",
    "In the given example, the Z test statistic follows a standard normal distribution as shown in the above plot. The Z values lying at the right end of the distribution give strong evidence against the null hypothesis. To find the rejection region, we will find the value of Z (called critical value) that gives an area of $\\alpha$ to the right end."
   ]
  },
  {
   "cell_type": "code",
   "execution_count": 7,
   "metadata": {
    "colab": {
     "base_uri": "https://localhost:8080/"
    },
    "id": "o_ITvMpZXLyI",
    "outputId": "4f262d0e-1caa-4a2e-8483-29db8a45b014"
   },
   "outputs": [
    {
     "data": {
      "text/plain": [
       "1.6448536269514722"
      ]
     },
     "execution_count": 7,
     "metadata": {},
     "output_type": "execute_result"
    }
   ],
   "source": [
    "# import the required function\n",
    "from scipy.stats import norm\n",
    "\n",
    "# find the critical value\n",
    "critical_val = norm.ppf(1-.05)\n",
    "critical_val"
   ]
  },
  {
   "cell_type": "markdown",
   "metadata": {
    "id": "pj41yWnjYKZl"
   },
   "source": [
    "The critical value separates the region where we will reject the null hypothesis from the region where we won't reject the null hypothesis. See the below plot."
   ]
  },
  {
   "cell_type": "code",
   "execution_count": 8,
   "metadata": {
    "colab": {
     "base_uri": "https://localhost:8080/",
     "height": 265
    },
    "id": "3PUG_qdLYr64",
    "outputId": "84547a58-1659-469d-f8f3-418b45b8bcc1"
   },
   "outputs": [
    {
     "data": {
      "image/png": "[encoded data removed]",
      "text/plain": [
       "<Figure size 640x480 with 1 Axes>"
      ]
     },
     "metadata": {},
     "output_type": "display_data"
    }
   ],
   "source": [
    "# plotting the test statistic distribution and indicating the rejection and acceptance region\n",
    "# we are plotting the distributions here to better visualize the calculations\n",
    "x = np.linspace(-4, 4, 100)\n",
    "plt.plot(x, norm.pdf(x, 0, 1))\n",
    "plt.axvline(x = critical_val, c = 'r')\n",
    "x1 = np.linspace(critical_val, 4, 50)\n",
    "plt.fill_between(x1, norm.pdf(x1, 0, 1), color='r')\n",
    "plt.annotate('Reject Null', (2, 0.20))\n",
    "plt.annotate('  Do Not Reject\\n        Null', (-1, 0.20))\n",
    "plt.show()"
   ]
  },
  {
   "cell_type": "markdown",
   "metadata": {
    "id": "mhRuynC6bRcV"
   },
   "source": [
    "### Insight\n",
    "\n",
    "As our test statistic (~ 1.29) does not lie in the rejection region, we can not reject the null hypothesis. Thus, we do not have enough statistical evidence to say that the mean delivery time of a product is greater than 5 days."
   ]
  },
  {
   "cell_type": "markdown",
   "metadata": {
    "id": "M__QsfhvzQdO"
   },
   "source": [
    "#### p-value Approach\n",
    "\n",
    "Though the rejection region approach gives us the desired conclusion, it does not say anything about the strength of the evidence. Hence, statisticians prefer the p-value approach which measures the strength of the evidence against the null hypothesis.\n",
    "\n",
    "For this approach, we need to follow the below steps.\n",
    "\n",
    "1. We choose the level of significance ($\\alpha$).\n",
    "\n",
    "2. Then, we calculate the p-value.\n",
    "\n",
    "3. We reject the null hypothesis if the p-value $\\leq \\alpha$. Else, we fail to reject the null hypothesis.\n",
    "\n",
    "The p-value is the probability of finding the observed test statistic or more extreme results, under the null hypothesis. \n",
    "\n",
    "In the given example, the p-value is the area right to the test statistic under the standard normal curve.\n"
   ]
  },
  {
   "cell_type": "code",
   "execution_count": 8,
   "metadata": {
    "colab": {
     "base_uri": "https://localhost:8080/",
     "height": 265
    },
    "id": "au3_jODY1cYb",
    "outputId": "a29e8dcd-76a6-461b-91a3-d6f875597c4f"
   },
   "outputs": [
    {
     "data": {
      "image/png": "[encoded data removed]",
      "text/plain": [
       "<Figure size 432x288 with 1 Axes>"
      ]
     },
     "metadata": {
      "needs_background": "light"
     },
     "output_type": "display_data"
    }
   ],
   "source": [
    "# plotting the test statistic distribution along with computed test statistic\n",
    "# we are plotting the distributions here to better visualize the calculations\n",
    "x = np.linspace(-4, 4, 100)\n",
    "plt.plot(x, norm.pdf(x, 0, 1))\n",
    "plt.axvline(x = test_stat, c = 'r')\n",
    "x1 = np.linspace(test_stat, 4, 50)\n",
    "plt.fill_between(x1, norm.pdf(x1, 0, 1), color='r')\n",
    "plt.show()"
   ]
  },
  {
   "cell_type": "code",
   "execution_count": 9,
   "metadata": {
    "colab": {
     "base_uri": "https://localhost:8080/"
    },
    "id": "Z6-VOxQqfOBF",
    "outputId": "cbfdfd12-beba-4c55-bbda-37bec6987ebf"
   },
   "outputs": [
    {
     "data": {
      "text/plain": [
       "0.09851852092578695"
      ]
     },
     "execution_count": 9,
     "metadata": {},
     "output_type": "execute_result"
    }
   ],
   "source": [
    "# calculate the p-value\n",
    "1 - norm.cdf(test_stat)"
   ]
  },
  {
   "cell_type": "markdown",
   "metadata": {
    "id": "3QCb1bK6gUTA"
   },
   "source": [
    "### Insight\n",
    "\n",
    "As the p-value ~0.098 is greater than the level of significance, we can not reject the null hypothesis. Thus, we do not have enough statistical evidence to say that the mean delivery time of a product is greater than 5 days."
   ]
  },
  {
   "cell_type": "markdown",
   "metadata": {
    "id": "noTA34C4hkyx"
   },
   "source": [
    "### Key Takeaway\n",
    "\n",
    "* We get the same result by using both the Rejection Region and p-value approach that the manager does not have enough statistical evidence to say that the mean delivery time of a product is greater than 5 days."
   ]
  },
  {
   "cell_type": "markdown",
   "metadata": {
    "id": "POB5EwDV5vAS"
   },
   "source": [
    "## **One-tailed and Two-tailed Tests**"
   ]
  },
  {
   "cell_type": "markdown",
   "metadata": {
    "id": "WiaDWDy1666u"
   },
   "source": [
    "### Let's see an example\n",
    "\n",
    "Suppose a soft-drink manufacturer's most selling product is 600 ml coke with a standard deviation of 50 ml.\n",
    "\n",
    "A customer would like to test whether there is at least 600 ml of coke in the bottle. He doubts that the amount of coke in the bottle is less than 600 ml.\n",
    "\n",
    "The null hypothesis formed by the customer is\n",
    "\n",
    ">$H_0: \\mu = 600$\n",
    "\n",
    "against the alternative hypothesis\n",
    "\n",
    "> $H_a: \\mu < 600$\n",
    "\n",
    "However, the quality control team wants exactly 600 ml of coke in the bottle. The team wants to ensure that the amount of coke in the bottle is not different from 600 ml.\n",
    "\n",
    "The null hypothesis formed by the quality control team is\n",
    "\n",
    ">$H_0: \\mu = 600$\n",
    "\n",
    "against the alternative hypothesis\n",
    "\n",
    "> $H_a: \\mu \\neq 600$\n",
    "\n",
    "Thus, the choice of a one-sided vs two-sided alternative hypothesis depends on the nature of the problem."
   ]
  },
  {
   "cell_type": "markdown",
   "metadata": {
    "id": "GWUkM0LrCzSu"
   },
   "source": [
    "### Two-tailed Test Example\n",
    "\n",
    "Suppose you work on the quality control team of the company. It is known from experience that the mean amount of coke in a bottle is 600 ml with a standard deviation of 50 ml.\n",
    "\n",
    "You have collected 36 randomly sampled bottles. The mean amount of coke in the 36 samples is 580 ml.\n",
    "\n",
    "You intend to test whether the amount of coke in the bottle is different from 600 ml using a 0.05 level of significance. Do you have enough Statistical evidence for it?"
   ]
  },
  {
   "cell_type": "markdown",
   "metadata": {
    "id": "kHPUcm3pryyd"
   },
   "source": [
    "### Are the assumptions of Z-test satisfied?"
   ]
  },
  {
   "cell_type": "markdown",
   "metadata": {
    "id": "_NP5DlMXr2gR"
   },
   "source": [
    "*   Samples are drawn from a normal distribution - Since the sample size is 36(which is > 30), Central Limit Theorem states that the distribution of sample means will be normal. If the sample size was less than 30, we would have been able to apply the Z test if we knew that the population distribution was normal.  \n",
    "*   Observations are from a simple random sample - we are informed that you have collected a simple random sample.\n",
    "*   Standard deviation is known - Yes.\n",
    "\n",
    "\n",
    "Voila! We can use Z-test for this problem."
   ]
  },
  {
   "cell_type": "markdown",
   "metadata": {
    "id": "DouBcnk2siNr"
   },
   "source": [
    "### The next step is to find the test statistic"
   ]
  },
  {
   "cell_type": "code",
   "execution_count": 9,
   "metadata": {
    "colab": {
     "base_uri": "https://localhost:8080/"
    },
    "id": "QZaRvsFXsqFm",
    "outputId": "cae555cc-7337-48be-9106-6f86a293899a"
   },
   "outputs": [
    {
     "data": {
      "text/plain": [
       "-2.4"
      ]
     },
     "execution_count": 9,
     "metadata": {},
     "output_type": "execute_result"
    }
   ],
   "source": [
    "# set the values of population mean and standard deviation to 600 and 50 respectively.\n",
    "mu, sigma = 600, 50\n",
    "\n",
    "# set the value of sample mean to 580.\n",
    "x_bar = 580\n",
    "\n",
    "# calculate the test statistic.\n",
    "test_stat = (x_bar - mu) / (sigma/np.sqrt(36))\n",
    "test_stat"
   ]
  },
  {
   "cell_type": "markdown",
   "metadata": {
    "id": "z25Pi6HhtLNu"
   },
   "source": [
    "### Let's use the rejection region approach for the two-tailed test\n",
    "\n",
    "In the given example, the Z test statistic follows a standard normal distribution. The Z values lying at the left and right end of the distribution give strong evidence against the null hypothesis. To find the rejection region, we will find the values of Z (called critical values) that give an area of $\\alpha/2$ to both the left and right end."
   ]
  },
  {
   "cell_type": "code",
   "execution_count": 11,
   "metadata": {
    "colab": {
     "base_uri": "https://localhost:8080/",
     "height": 265
    },
    "id": "7PGKmNzjuolm",
    "outputId": "dd95a605-b753-4545-b65c-c756f2d05c82"
   },
   "outputs": [
    {
     "data": {
      "image/png": "[encoded data removed]",
      "text/plain": [
       "<Figure size 432x288 with 1 Axes>"
      ]
     },
     "metadata": {
      "needs_background": "light"
     },
     "output_type": "display_data"
    }
   ],
   "source": [
    "# import the required function\n",
    "from scipy.stats import norm\n",
    "\n",
    "# find the critical values\n",
    "critical_val1 = norm.ppf(1-(0.05/2))\n",
    "critical_val2 = norm.ppf(0.05/2)\n",
    "\n",
    "# plot the rejection and acceptance region\n",
    "# we are plotting the distributions here to better visualize the calculations\n",
    "x = np.linspace(-4, 4, 100)\n",
    "plt.plot(x, norm.pdf(x, 0, 1))\n",
    "plt.axvline(x = critical_val1, c = 'r')\n",
    "x1 = np.linspace(critical_val1, 4, 50)\n",
    "plt.fill_between(x1, norm.pdf(x1, 0, 1), color='r')\n",
    "plt.axvline(x = critical_val2, c = 'r')\n",
    "x1 = np.linspace(-4, critical_val2, 50)\n",
    "plt.fill_between(x1, norm.pdf(x1, 0, 1), color='r')\n",
    "plt.annotate('Reject Null', (2.2, 0.20))\n",
    "plt.annotate('Reject Null', (-3.5, 0.20))\n",
    "plt.annotate('  Do Not Reject\\n        Null', (-1, 0.20))\n",
    "plt.show()"
   ]
  },
  {
   "cell_type": "markdown",
   "metadata": {
    "id": "1x0cXahOwHE8"
   },
   "source": [
    "As our test statistic (~-2.4) lies in the rejection region, we can reject the null hypothesis. Thus, we have enough statistical evidence to say that the amount of coke in the bottle is different from 600 ml."
   ]
  },
  {
   "cell_type": "markdown",
   "metadata": {
    "id": "9zzkUpjHPn_c"
   },
   "source": [
    "### One-tailed Test Example\n",
    "\n",
    "It is known that the mean amount of coke in a bottle is 600 ml with a standard deviation of 50 ml. Suppose you are a customer who wants to test whether the amount of coke in the bottle is less than 600 ml.\n",
    "\n",
    "You have collected 36 randomly sampled bottles. The mean amount of coke in the 36 samples is 580 ml.\n",
    "\n",
    "Do you have enough Statistical evidence for it?"
   ]
  },
  {
   "cell_type": "markdown",
   "metadata": {
    "id": "vacq1cbrQH76"
   },
   "source": [
    "### Are the assumptions of the Z-test satisfied?\n",
    "*   Samples are drawn from a normal distribution - Since the sample size is 36(which is > 30), Central Limit Theorem states that the distribution of sample means will be normal. If the sample size was less than 30, we would have been able to apply the Z test if we knew that the population distribution was normal.  \n",
    "*   Observations are from a simple random sample - we are informed that you have collected a simple random sample.\n",
    "*   Standard deviation is known - Yes\n",
    "\n",
    "\n",
    "Voila! We can use Z-test for this problem."
   ]
  },
  {
   "cell_type": "markdown",
   "metadata": {
    "id": "9jeI1yRkRLN2"
   },
   "source": [
    "### The next step is to find the test statistic"
   ]
  },
  {
   "cell_type": "code",
   "execution_count": 12,
   "metadata": {
    "colab": {
     "base_uri": "https://localhost:8080/"
    },
    "id": "8dZr5lGzRS7R",
    "outputId": "a0f0cce5-db02-49da-935e-cefa6e09ee52"
   },
   "outputs": [
    {
     "data": {
      "text/plain": [
       "-2.4"
      ]
     },
     "execution_count": 12,
     "metadata": {},
     "output_type": "execute_result"
    }
   ],
   "source": [
    "# set the values of population mean and standard deviation to 600 and 50 respectively\n",
    "mu, sigma = 600, 50\n",
    "\n",
    "# set the value of sample mean to 580\n",
    "x_bar = 580\n",
    "\n",
    "# calculate the test statistic\n",
    "test_stat = (x_bar - mu) / (sigma/np.sqrt(36))\n",
    "test_stat"
   ]
  },
  {
   "cell_type": "markdown",
   "metadata": {
    "id": "BUIBHwkPRPCQ"
   },
   "source": [
    "### Let's use the rejection region approach for the one-tailed test\n",
    "\n",
    "In the given example, the Z test statistic follows a standard normal distribution. The Z values lying at the left end of the distribution give strong evidence against the null hypothesis. To find the rejection region, we will find the value of Z (called critical value) that gives an area of $\\alpha$ to the left end."
   ]
  },
  {
   "cell_type": "code",
   "execution_count": 10,
   "metadata": {
    "colab": {
     "base_uri": "https://localhost:8080/",
     "height": 265
    },
    "id": "IhhNBBsuRjLI",
    "outputId": "19a188c4-a368-4525-ebb3-b61d45b393b8"
   },
   "outputs": [
    {
     "data": {
      "image/png": "[encoded data removed]",
      "text/plain": [
       "<Figure size 640x480 with 1 Axes>"
      ]
     },
     "metadata": {},
     "output_type": "display_data"
    }
   ],
   "source": [
    "# import the required function\n",
    "from scipy.stats import norm\n",
    "\n",
    "# find the critical value\n",
    "critical_val = norm.ppf(0.05)\n",
    "\n",
    "# plot the rejection and acceptance region\n",
    "# we are plotting the distributions here to better visualize the calculations\n",
    "x = np.linspace(-4, 4, 100)\n",
    "plt.plot(x, norm.pdf(x, 0, 1))\n",
    "plt.axvline(x = critical_val, c = 'r')\n",
    "x1 = np.linspace(-4, critical_val, 50)\n",
    "plt.fill_between(x1, norm.pdf(x1, 0, 1), color='r')\n",
    "plt.annotate('Reject Null', (-3.5, 0.20))\n",
    "plt.annotate('  Do Not Reject\\n        Null', (-1, 0.20))\n",
    "plt.show()"
   ]
  },
  {
   "cell_type": "markdown",
   "metadata": {
    "id": "fanaSBpeS0yQ"
   },
   "source": [
    "As our test statistic (~-2.4) lies in the rejection region, we can reject the null hypothesis. Thus, we have enough statistical evidence to say that the amount of coke in the bottle is less than 600 ml."
   ]
  },
  {
   "cell_type": "markdown",
   "metadata": {
    "id": "8Zf1FemQ4g9t"
   },
   "source": [
    "### Key Takeaways\n",
    "\n",
    "* In the one-tailed test, we consider the difference only in one direction. However, in the two-tailed test, we are interested to know the direction of the difference. \n",
    "* Depending on the nature of the problem choose one!"
   ]
  }
 ],
 "metadata": {
  "colab": {
   "collapsed_sections": [],
   "name": "Notebook Week2.ipynb",
   "provenance": []
  },
  "kernelspec": {
   "display_name": "Python 3",
   "language": "python",
   "name": "python3"
  },
  "language_info": {
   "codemirror_mode": {
    "name": "ipython",
    "version": 3
   },
   "file_extension": ".py",
   "mimetype": "text/x-python",
   "name": "python",
   "nbconvert_exporter": "python",
   "pygments_lexer": "ipython3",
   "version": "3.10.11"
  },
  "vscode": {
   "interpreter": {
    "hash": "30d2ebc9ad045694278b74b9adaaa1252355c73d042b0beec3dfacb48b8baf8f"
   }
  }
 },
 "nbformat": 4,
 "nbformat_minor": 1
}
